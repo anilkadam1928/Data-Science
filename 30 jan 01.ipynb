{
 "cells": [
  {
   "cell_type": "code",
   "execution_count": 2,
   "id": "fbefdc11-349a-42a7-aa6a-3c6b5f25054f",
   "metadata": {},
   "outputs": [],
   "source": [
    "a='b'"
   ]
  },
  {
   "cell_type": "code",
   "execution_count": 6,
   "id": "49aab2ec-4679-477e-a2f1-11d582cd2307",
   "metadata": {},
   "outputs": [
    {
     "name": "stdin",
     "output_type": "stream",
     "text": [
      "type age=  22\n"
     ]
    },
    {
     "name": "stdout",
     "output_type": "stream",
     "text": [
      "you aqre younbg blood\n"
     ]
    }
   ],
   "source": [
    "age=int(input(\"type age= \"))\n",
    "if age >= 18 and age <= 45: print(\"you aqre younbg blood\")"
   ]
  },
  {
   "cell_type": "code",
   "execution_count": 8,
   "id": "9f961106-d6bf-4f6d-b4b5-9e355c8c0c09",
   "metadata": {},
   "outputs": [
    {
     "name": "stdin",
     "output_type": "stream",
     "text": [
      "type age=  343\n"
     ]
    },
    {
     "name": "stdout",
     "output_type": "stream",
     "text": [
      "Thankyou your application is rejected\n"
     ]
    }
   ],
   "source": [
    "age=int(input(\"type age= \"))\n",
    "if age >= 18 and age <= 45: print(\"you aqre younbg blood\")\n",
    "else : print(\"Thankyou your application is rejected\")"
   ]
  },
  {
   "cell_type": "code",
   "execution_count": 9,
   "id": "5dbc1d44-b276-4e24-af26-54b0d0dde29f",
   "metadata": {},
   "outputs": [
    {
     "name": "stdin",
     "output_type": "stream",
     "text": [
      "type age=  12\n"
     ]
    },
    {
     "name": "stdout",
     "output_type": "stream",
     "text": [
      "Thankyou we will let youb know\n"
     ]
    }
   ],
   "source": [
    "age=int(input(\"type age= \"))\n",
    "if age >= 18 and age <= 45: print(\"you aqre younbg blood\")\n",
    "else : print(\"Thankyou we will let youb know\")"
   ]
  },
  {
   "cell_type": "code",
   "execution_count": 21,
   "id": "bd813c04-9019-44d1-8bcc-abc3b7d72fa5",
   "metadata": {},
   "outputs": [
    {
     "name": "stdout",
     "output_type": "stream",
     "text": [
      "Welcome to the Lulu mall\n"
     ]
    },
    {
     "name": "stdin",
     "output_type": "stream",
     "text": [
      "Enter the price of the product 100\n"
     ]
    },
    {
     "name": "stdout",
     "output_type": "stream",
     "text": [
      "30 off     enjon and the new price is 70.0\n"
     ]
    }
   ],
   "source": [
    "print(\"Welcome to the Lulu mall\")\n",
    "price=int(input(\"Enter the price of the product\"))\n",
    "if price > 1000 : \n",
    "    print(\"Congrats you have got 20% discount and the new price is {} \".format(price*0.8))\n",
    "\n",
    "if price <= 1000 : print(\"30 off     enjon and the new price is {}\".format(price*0.7))"
   ]
  },
  {
   "cell_type": "code",
   "execution_count": 22,
   "id": "f2a12260-4297-4c42-9059-b4198231b06c",
   "metadata": {},
   "outputs": [
    {
     "name": "stdout",
     "output_type": "stream",
     "text": [
      "Welcome to the Lulu mall\n"
     ]
    },
    {
     "name": "stdin",
     "output_type": "stream",
     "text": [
      "Enter the price of the product 9000\n"
     ]
    },
    {
     "name": "stdout",
     "output_type": "stream",
     "text": [
      "Congrats you have got 20% discount and the new price is 7200.0 \n"
     ]
    }
   ],
   "source": [
    "print(\"Welcome to the Lulu mall\")\n",
    "price=int(input(\"Enter the price of the product\"))\n",
    "if price > 1000 : \n",
    "    print(\"Congrats you have got 20% discount and the new price is {} \".format(price*0.8))\n",
    "\n",
    "if price <= 1000 : print(\"30 off     enjon and the new price is {}\".format(price*0.7))\n"
   ]
  },
  {
   "cell_type": "code",
   "execution_count": 23,
   "id": "b01d5bc5-3128-45f6-b1a7-d4927b624d2f",
   "metadata": {},
   "outputs": [
    {
     "name": "stdout",
     "output_type": "stream",
     "text": [
      "Welcome to the Lulu mall\n"
     ]
    },
    {
     "name": "stdin",
     "output_type": "stream",
     "text": [
      "Enter the price of the product 500\n"
     ]
    },
    {
     "name": "stdout",
     "output_type": "stream",
     "text": [
      "30 off     enjon and the new price is 350.0\n"
     ]
    }
   ],
   "source": [
    "print(\"Welcome to the Lulu mall\")\n",
    "price=int(input(\"Enter the price of the product\"))\n",
    "if price > 1000 : \n",
    "    print(f\"Congrats you have got 20% discount and the new price is {price*0.8} \")\n",
    "\n",
    "if price <= 1000 : print(f\"30 off     enjon and the new price is {price*0.7}\")"
   ]
  },
  {
   "cell_type": "code",
   "execution_count": null,
   "id": "b2386542",
   "metadata": {},
   "outputs": [
    {
     "name": "stdout",
     "output_type": "stream",
     "text": [
      "Welcome to the Lulu mall\n"
     ]
    }
   ],
   "source": [
    "print(\"Welcome to the Lulu mall\")\n",
    "price=int(input(\"Enter the price of the product\"))\n",
    "if price <3000 : \n",
    "    print(f\"Congrats you have got 20% discount and the new price is {price*0.8} \")\n",
    "\n",
    "if price <= 3000 : print(f\"30 off     enjon and the new price is {price*0.7}\")\n"
   ]
  },
  {
   "cell_type": "code",
   "execution_count": null,
   "id": "fdab599d-6934-4597-b971-2b459425840e",
   "metadata": {},
   "outputs": [],
   "source": []
  },
  {
   "cell_type": "code",
   "execution_count": null,
   "id": "93f6ca7c-cf0d-4f10-a9a4-3cbcd25e9c60",
   "metadata": {},
   "outputs": [],
   "source": []
  }
 ],
 "metadata": {
  "kernelspec": {
   "display_name": "Python 3 (ipykernel)",
   "language": "python",
   "name": "python3"
  },
  "language_info": {
   "codemirror_mode": {
    "name": "ipython",
    "version": 3
   },
   "file_extension": ".py",
   "mimetype": "text/x-python",
   "name": "python",
   "nbconvert_exporter": "python",
   "pygments_lexer": "ipython3",
   "version": "3.10.8"
  }
 },
 "nbformat": 4,
 "nbformat_minor": 5
}

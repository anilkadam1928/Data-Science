{
 "cells": [
  {
   "cell_type": "code",
   "execution_count": 6,
   "id": "cf245616-8b55-42e8-b7c0-96d3c91b0544",
   "metadata": {},
   "outputs": [
    {
     "name": "stdout",
     "output_type": "stream",
     "text": [
      "26\n",
      "27\n",
      "28\n",
      "29\n",
      "30\n",
      "31\n",
      "32\n",
      "33\n",
      "34\n",
      "35\n",
      "36\n",
      "37\n",
      "38\n",
      "39\n",
      "40\n",
      "41\n",
      "42\n",
      "43\n",
      "44\n",
      "45\n",
      "46\n",
      "47\n",
      "48\n",
      "49\n",
      "50\n",
      "51\n",
      "52\n",
      "53\n",
      "54\n",
      "55\n",
      "56\n",
      "57\n",
      "58\n",
      "59\n",
      "60\n",
      "61\n"
     ]
    }
   ],
   "source": [
    "joining_age =25\n",
    "\n",
    "while joining_age<=60:\n",
    "    joining_age=joining_age +1\n",
    "    \n",
    "    print(joining_age)\n",
    "\n"
   ]
  },
  {
   "cell_type": "markdown",
   "id": "eae590b7-23d1-48c7-8490-9483feec8b8e",
   "metadata": {},
   "source": [
    "###### "
   ]
  },
  {
   "cell_type": "code",
   "execution_count": 12,
   "id": "075808b3-aa7b-49ae-9ab4-38e98c3669ad",
   "metadata": {},
   "outputs": [
    {
     "name": "stdout",
     "output_type": "stream",
     "text": [
      "31\n",
      "32\n",
      "33\n",
      "34\n",
      "35\n",
      "36\n",
      "37\n",
      "38\n",
      "39\n",
      "40\n",
      "41\n",
      "42\n",
      "43\n",
      "44\n",
      "45\n",
      "46\n",
      "47\n",
      "48\n",
      "49\n",
      "50\n",
      "51\n",
      "52\n",
      "53\n",
      "54\n",
      "55\n",
      "56\n",
      "57\n",
      "58\n",
      "59\n",
      "60\n",
      "61\n"
     ]
    }
   ],
   "source": [
    "ra=30\n",
    "\n",
    "while ra<=60:\n",
    "    ra=ra+1\n",
    "    \n",
    "    print(ra)"
   ]
  },
  {
   "cell_type": "code",
   "execution_count": 39,
   "id": "a5e81889-ed14-46fb-a104-afa43aa1b027",
   "metadata": {},
   "outputs": [
    {
     "name": "stdout",
     "output_type": "stream",
     "text": [
      "950\n",
      "900\n",
      "850\n",
      "800\n",
      "750\n",
      "700\n",
      "650\n",
      "600\n",
      "550\n",
      "500\n",
      "450\n",
      "400\n",
      "350\n",
      "300\n",
      "250\n",
      "200\n",
      "150\n",
      "100\n",
      "50\n",
      "0\n",
      "dc\n",
      "hgvdwf\n"
     ]
    }
   ],
   "source": [
    "ta=1000\n",
    "while ta!=0:\n",
    "    ta=ta-50\n",
    "    print(ta)\n",
    "\n",
    "    \n",
    "\n",
    "else:print(\"dc\")\n",
    "    \n",
    "print(\"hgvdwf\")"
   ]
  },
  {
   "cell_type": "code",
   "execution_count": 41,
   "id": "4657c267-c04c-4d04-bfc0-d8c3097c6ca1",
   "metadata": {},
   "outputs": [
    {
     "ename": "SyntaxError",
     "evalue": "invalid syntax (2917219763.py, line 9)",
     "output_type": "error",
     "traceback": [
      "\u001b[0;36m  Cell \u001b[0;32mIn[41], line 9\u001b[0;36m\u001b[0m\n\u001b[0;31m    else:print(\"dc\")\u001b[0m\n\u001b[0m    ^\u001b[0m\n\u001b[0;31mSyntaxError\u001b[0m\u001b[0;31m:\u001b[0m invalid syntax\n"
     ]
    }
   ],
   "source": [
    "ta=1000\n",
    "while ta!=0:\n",
    "    ta=ta-50\n",
    "    print(ta)\n",
    "\n",
    "    \n",
    "\n",
    "\n",
    "    else:print(\"dc\")\n",
    "    \n",
    "print(\"hgvdwf\")\n",
    "\n",
    "\n",
    "\n",
    "##  here else is inside while loop thats why showing an error"
   ]
  },
  {
   "cell_type": "markdown",
   "id": "eb694f9f-01a0-4cec-a9aa-bf2519f6c7d4",
   "metadata": {},
   "source": [
    "### FOR LOOP"
   ]
  },
  {
   "cell_type": "code",
   "execution_count": 43,
   "id": "aaeabe7b-8c54-4084-be37-27179f296e71",
   "metadata": {},
   "outputs": [],
   "source": [
    "lst=[\"anil\",1,2,3,\"banana\"]"
   ]
  },
  {
   "cell_type": "code",
   "execution_count": 44,
   "id": "4d569c53-8704-4691-b4e8-fe76a62ed241",
   "metadata": {},
   "outputs": [
    {
     "data": {
      "text/plain": [
       "list"
      ]
     },
     "execution_count": 44,
     "metadata": {},
     "output_type": "execute_result"
    }
   ],
   "source": [
    "type(lst)"
   ]
  },
  {
   "cell_type": "code",
   "execution_count": 45,
   "id": "6db707b2-fff2-4be3-9061-7ca823485b87",
   "metadata": {},
   "outputs": [
    {
     "data": {
      "text/plain": [
       "'banana'"
      ]
     },
     "execution_count": 45,
     "metadata": {},
     "output_type": "execute_result"
    }
   ],
   "source": [
    "lst[4]"
   ]
  },
  {
   "cell_type": "code",
   "execution_count": 47,
   "id": "1c36a2d6-3119-48dc-a945-3dcd609b46e1",
   "metadata": {},
   "outputs": [
    {
     "data": {
      "text/plain": [
       "['anil', 1, 2, 3, 'banana']"
      ]
     },
     "execution_count": 47,
     "metadata": {},
     "output_type": "execute_result"
    }
   ],
   "source": [
    "lst"
   ]
  },
  {
   "cell_type": "code",
   "execution_count": 48,
   "id": "7e7980b8-a103-4709-9ae2-e4c128749334",
   "metadata": {},
   "outputs": [
    {
     "name": "stdout",
     "output_type": "stream",
     "text": [
      "anil\n",
      "1\n",
      "2\n",
      "3\n",
      "banana\n"
     ]
    }
   ],
   "source": [
    "for x in lst:\n",
    "    print(x)"
   ]
  },
  {
   "cell_type": "code",
   "execution_count": 49,
   "id": "db56752d-2996-415c-9052-e93e7ca036a6",
   "metadata": {},
   "outputs": [],
   "source": [
    "fruit=[\"cherry\",\"bnaana\",\"mango\",\"apple\",\"anil\"]"
   ]
  },
  {
   "cell_type": "code",
   "execution_count": 50,
   "id": "73a4f111-cd79-4a00-a164-74427b784c5e",
   "metadata": {},
   "outputs": [
    {
     "data": {
      "text/plain": [
       "list"
      ]
     },
     "execution_count": 50,
     "metadata": {},
     "output_type": "execute_result"
    }
   ],
   "source": [
    "type(fruit)"
   ]
  },
  {
   "cell_type": "code",
   "execution_count": 51,
   "id": "49b8d2b7-d61f-4792-83d1-5992455b88f5",
   "metadata": {},
   "outputs": [
    {
     "data": {
      "text/plain": [
       "['cherry', 'bnaana', 'mango', 'apple', 'anil']"
      ]
     },
     "execution_count": 51,
     "metadata": {},
     "output_type": "execute_result"
    }
   ],
   "source": [
    "fruit"
   ]
  },
  {
   "cell_type": "code",
   "execution_count": 56,
   "id": "d5ed30f9-871c-44dc-bade-287e291490ec",
   "metadata": {},
   "outputs": [
    {
     "name": "stdout",
     "output_type": "stream",
     "text": [
      "cherry\n",
      "bnaana\n",
      "mango\n",
      "apple\n",
      "anil\n"
     ]
    }
   ],
   "source": [
    "for x in fruit:\n",
    "    print(x)"
   ]
  },
  {
   "cell_type": "code",
   "execution_count": 66,
   "id": "c2408345-ec9d-4294-84a9-91219b00af17",
   "metadata": {},
   "outputs": [
    {
     "name": "stdout",
     "output_type": "stream",
     "text": [
      "You have selected cherry\n"
     ]
    }
   ],
   "source": [
    "for x in fruit :\n",
    "    if x==\"cherry\":\n",
    "        print(\"You have selected cherry\")\n",
    "        break\n",
    "      \n",
    "\n"
   ]
  },
  {
   "cell_type": "code",
   "execution_count": 67,
   "id": "6da22815-7b57-4286-970a-121b819abca3",
   "metadata": {},
   "outputs": [
    {
     "name": "stdout",
     "output_type": "stream",
     "text": [
      "m\n",
      "a\n",
      "n\n",
      "g\n",
      "o\n"
     ]
    }
   ],
   "source": [
    "fruit='mango'\n",
    "for x in fruit:\n",
    "    print(x)\n",
    "    \n",
    "    "
   ]
  },
  {
   "cell_type": "code",
   "execution_count": 69,
   "id": "23f4e92f-c954-45eb-8769-c373d59f66dd",
   "metadata": {},
   "outputs": [
    {
     "name": "stdout",
     "output_type": "stream",
     "text": [
      "mango\n"
     ]
    }
   ],
   "source": [
    "fuit=[\"mango\"]\n",
    "for x in fuit:\n",
    "    print(x)"
   ]
  },
  {
   "cell_type": "code",
   "execution_count": 71,
   "id": "79eb874c-ed5d-4662-b5fc-cb7fddec0204",
   "metadata": {},
   "outputs": [
    {
     "name": "stdout",
     "output_type": "stream",
     "text": [
      "m\n",
      "a\n",
      "n\n",
      "g\n",
      "o\n"
     ]
    },
    {
     "data": {
      "text/plain": [
       "'n'"
      ]
     },
     "execution_count": 71,
     "metadata": {},
     "output_type": "execute_result"
    }
   ],
   "source": [
    "fruit='mango'\n",
    "for x in fruit:\n",
    "    print(x)\n",
    "    \n",
    "fruit[2]"
   ]
  },
  {
   "cell_type": "markdown",
   "id": "83e23988-3653-4691-93b6-05ab53a37582",
   "metadata": {},
   "source": [
    "###"
   ]
  },
  {
   "cell_type": "markdown",
   "id": "71e1d07b-35f6-4cde-b7cd-5259e594d320",
   "metadata": {},
   "source": [
    "###\n",
    "range"
   ]
  },
  {
   "cell_type": "code",
   "execution_count": 72,
   "id": "df28ab6f-583d-4533-af23-374f2bfa42a0",
   "metadata": {},
   "outputs": [
    {
     "name": "stdout",
     "output_type": "stream",
     "text": [
      "1\n",
      "2\n",
      "3\n",
      "4\n",
      "5\n"
     ]
    }
   ],
   "source": [
    "for i in range(1,6):\n",
    "    print(i)"
   ]
  },
  {
   "cell_type": "code",
   "execution_count": 74,
   "id": "cae2148b-4499-48ab-82aa-be058adda6fa",
   "metadata": {},
   "outputs": [
    {
     "name": "stdout",
     "output_type": "stream",
     "text": [
      "1\n",
      "2\n",
      "3\n",
      "4\n",
      "5\n",
      "6\n",
      "7\n",
      "8\n",
      "9\n"
     ]
    }
   ],
   "source": [
    "for i  in range(1,10):\n",
    "    print(i)"
   ]
  },
  {
   "cell_type": "code",
   "execution_count": 75,
   "id": "48504dc2-bb66-4eb1-ae29-1c2035c2e276",
   "metadata": {},
   "outputs": [
    {
     "name": "stdout",
     "output_type": "stream",
     "text": [
      "1\n",
      "3\n",
      "5\n",
      "7\n",
      "9\n"
     ]
    }
   ],
   "source": [
    "for i  in range(1,10,2):\n",
    "    print(i)"
   ]
  },
  {
   "cell_type": "markdown",
   "id": "70a62936-baa0-4817-ac9c-2ea9f2ae6c09",
   "metadata": {},
   "source": [
    "### nested loop"
   ]
  },
  {
   "cell_type": "code",
   "execution_count": 81,
   "id": "f1b9fc6f-0564-4ebc-9e96-3d43b45145ba",
   "metadata": {},
   "outputs": [
    {
     "name": "stdout",
     "output_type": "stream",
     "text": [
      "0\n",
      "\n",
      "0\n",
      "1\n",
      "\n",
      "0\n",
      "1\n",
      "2\n",
      "\n",
      "0\n",
      "1\n",
      "2\n",
      "3\n",
      "\n",
      "0\n",
      "1\n",
      "2\n",
      "3\n",
      "4\n",
      "\n",
      "0\n",
      "1\n",
      "2\n",
      "3\n",
      "4\n",
      "5\n",
      "\n",
      "0\n",
      "1\n",
      "2\n",
      "3\n",
      "4\n",
      "5\n",
      "6\n",
      "\n"
     ]
    }
   ],
   "source": [
    "n=7\n",
    "\n",
    "for i in range(0,n):\n",
    "    for j in range(0,i+1):\n",
    "        print(j)\n",
    "    print(\"\\r\")    \n",
    "    \n"
   ]
  },
  {
   "cell_type": "code",
   "execution_count": 87,
   "id": "1abc7c83-3918-4988-8378-31625329b5c6",
   "metadata": {},
   "outputs": [
    {
     "name": "stdout",
     "output_type": "stream",
     "text": [
      "*\n",
      "**\n",
      "***\n",
      "****\n",
      "*****\n",
      "******\n",
      "*******\n",
      "********\n",
      "*********\n",
      "**********\n"
     ]
    }
   ],
   "source": [
    "n=10\n",
    "\n",
    "for i in  range(0,n):\n",
    "    for j in  range(0,i+1):\n",
    "        print(\"*\",end=\"\")\n",
    "    print(\"\\r\")"
   ]
  },
  {
   "cell_type": "markdown",
   "id": "efb61c17-0598-4d6c-9f2c-4de9e60d9f97",
   "metadata": {},
   "source": [
    "### loop control\n"
   ]
  },
  {
   "cell_type": "code",
   "execution_count": 100,
   "id": "80b36eb3-5270-4d3b-9a02-bb6e500d248f",
   "metadata": {},
   "outputs": [
    {
     "name": "stdout",
     "output_type": "stream",
     "text": [
      "m\n",
      "a\n",
      "n\n",
      "g\n",
      "o\n"
     ]
    }
   ],
   "source": [
    "for i in fruit:\n",
    "    print(i)"
   ]
  },
  {
   "cell_type": "code",
   "execution_count": 108,
   "id": "5f98fdbf-0cee-4634-9422-2a48808bc646",
   "metadata": {},
   "outputs": [
    {
     "name": "stdout",
     "output_type": "stream",
     "text": [
      "m\n",
      "a\n",
      "n\n",
      "g\n",
      "mango\n"
     ]
    }
   ],
   "source": [
    "\n",
    "for i in fruit:\n",
    "    if i==\"o\":\n",
    "        print(\"mango\")\n",
    "        break\n",
    "    print(i)   "
   ]
  },
  {
   "cell_type": "code",
   "execution_count": 112,
   "id": "aff8f95b-9006-4f2b-b898-48872c86eeb6",
   "metadata": {},
   "outputs": [
    {
     "name": "stdout",
     "output_type": "stream",
     "text": [
      "m\n",
      "a\n",
      "n\n",
      "g\n",
      "grapes\n"
     ]
    }
   ],
   "source": [
    "for i in fruit :\n",
    "    print(i)\n",
    "    if i==\"g\":\n",
    "        print(\"grapes\")\n",
    "        break\n",
    "        "
   ]
  },
  {
   "cell_type": "code",
   "execution_count": 113,
   "id": "784306df-a714-46dc-828d-35a191f98faf",
   "metadata": {},
   "outputs": [
    {
     "name": "stdout",
     "output_type": "stream",
     "text": [
      "m\n",
      "a\n",
      "n\n",
      "g\n",
      "grapes\n"
     ]
    }
   ],
   "source": [
    "for i in fruit :\n",
    "    print(i)\n",
    "    if i==\"g\":\n",
    "        print(\"grapes\")\n",
    "        break"
   ]
  },
  {
   "cell_type": "code",
   "execution_count": null,
   "id": "2a6195df-1004-42c9-8b17-8fb624301547",
   "metadata": {},
   "outputs": [],
   "source": []
  }
 ],
 "metadata": {
  "kernelspec": {
   "display_name": "Python 3 (ipykernel)",
   "language": "python",
   "name": "python3"
  },
  "language_info": {
   "codemirror_mode": {
    "name": "ipython",
    "version": 3
   },
   "file_extension": ".py",
   "mimetype": "text/x-python",
   "name": "python",
   "nbconvert_exporter": "python",
   "pygments_lexer": "ipython3",
   "version": "3.10.8"
  }
 },
 "nbformat": 4,
 "nbformat_minor": 5
}

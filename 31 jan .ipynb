{
 "cells": [
  {
   "cell_type": "code",
   "execution_count": 3,
   "id": "90ec936f-e94c-4f8b-a95e-4e845037f0e5",
   "metadata": {},
   "outputs": [
    {
     "data": {
      "text/plain": [
       "True"
      ]
     },
     "execution_count": 3,
     "metadata": {},
     "output_type": "execute_result"
    }
   ],
   "source": [
    "not 0"
   ]
  },
  {
   "cell_type": "code",
   "execution_count": null,
   "id": "fe2564e7-e893-43ca-bd1c-b9eb33c3f2b4",
   "metadata": {},
   "outputs": [],
   "source": []
  },
  {
   "cell_type": "code",
   "execution_count": 4,
   "id": "2c010095-51a3-4edc-9677-e5a51ea96b97",
   "metadata": {},
   "outputs": [
    {
     "data": {
      "text/plain": [
       "False"
      ]
     },
     "execution_count": 4,
     "metadata": {},
     "output_type": "execute_result"
    }
   ],
   "source": [
    "bool(0)"
   ]
  },
  {
   "cell_type": "code",
   "execution_count": 5,
   "id": "85a8dffe-f4ee-470d-a8be-1abd8b56f69e",
   "metadata": {},
   "outputs": [
    {
     "data": {
      "text/plain": [
       "True"
      ]
     },
     "execution_count": 5,
     "metadata": {},
     "output_type": "execute_result"
    }
   ],
   "source": [
    "not( int(bool(0)))"
   ]
  },
  {
   "cell_type": "code",
   "execution_count": 6,
   "id": "228f1597-4c06-4132-87e1-5d93b7397b40",
   "metadata": {},
   "outputs": [
    {
     "data": {
      "text/plain": [
       "True"
      ]
     },
     "execution_count": 6,
     "metadata": {},
     "output_type": "execute_result"
    }
   ],
   "source": [
    "not(0)"
   ]
  },
  {
   "cell_type": "code",
   "execution_count": 7,
   "id": "c4af49f8-7953-47c6-b492-582f413c9591",
   "metadata": {},
   "outputs": [
    {
     "data": {
      "text/plain": [
       "True"
      ]
     },
     "execution_count": 7,
     "metadata": {},
     "output_type": "execute_result"
    }
   ],
   "source": [
    "not int( bool(0))"
   ]
  },
  {
   "cell_type": "code",
   "execution_count": 8,
   "id": "434d8b3f-9d20-4665-b1db-3d6ebe95e222",
   "metadata": {},
   "outputs": [
    {
     "name": "stdout",
     "output_type": "stream",
     "text": [
      "boolian value of zero is False\n",
      "boolian value of one is True\n"
     ]
    }
   ],
   "source": [
    "zero = 0\n",
    "one = 1\n",
    "\n",
    "print(f\"boolian value of zero is {bool(zero)}\")\n",
    "\n",
    "print(f'boolian value of one is {bool(one)}')"
   ]
  },
  {
   "cell_type": "markdown",
   "id": "1f9df7b9-c112-4fa3-b2b2-c7836a03396f",
   "metadata": {},
   "source": [
    "#### Logical and"
   ]
  },
  {
   "cell_type": "code",
   "execution_count": 9,
   "id": "8477b0ee-91c5-4922-b7b0-6b0177b90c87",
   "metadata": {},
   "outputs": [
    {
     "name": "stdout",
     "output_type": "stream",
     "text": [
      "v: True\n",
      "s :False\n"
     ]
    }
   ],
   "source": [
    "v=True \n",
    "S= False \n",
    "\n",
    "print(f\"v: {v}\")\n",
    "\n",
    "print(f\"s :{S}\")"
   ]
  },
  {
   "cell_type": "code",
   "execution_count": 10,
   "id": "ad0ad789-edfa-46cf-b8ad-69885ab907e1",
   "metadata": {},
   "outputs": [
    {
     "data": {
      "text/plain": [
       "False"
      ]
     },
     "execution_count": 10,
     "metadata": {},
     "output_type": "execute_result"
    }
   ],
   "source": [
    "not True"
   ]
  },
  {
   "cell_type": "code",
   "execution_count": 11,
   "id": "e1cc2f0c-95b6-4fb8-b015-864878f7b0a0",
   "metadata": {},
   "outputs": [
    {
     "data": {
      "text/plain": [
       "True"
      ]
     },
     "execution_count": 11,
     "metadata": {},
     "output_type": "execute_result"
    }
   ],
   "source": [
    "not False"
   ]
  },
  {
   "cell_type": "code",
   "execution_count": 12,
   "id": "15328d54-801b-4814-a243-9930fd9637f2",
   "metadata": {},
   "outputs": [
    {
     "data": {
      "text/plain": [
       "True"
      ]
     },
     "execution_count": 12,
     "metadata": {},
     "output_type": "execute_result"
    }
   ],
   "source": [
    "not not True"
   ]
  },
  {
   "cell_type": "code",
   "execution_count": 13,
   "id": "76bc53ba-0e78-44e3-8995-8c81584c3d10",
   "metadata": {},
   "outputs": [
    {
     "data": {
      "text/plain": [
       "0"
      ]
     },
     "execution_count": 13,
     "metadata": {},
     "output_type": "execute_result"
    }
   ],
   "source": [
    "(not(False))*False"
   ]
  },
  {
   "cell_type": "code",
   "execution_count": 14,
   "id": "7c7ad951-c0c3-46d5-a0c2-be1321fd99bd",
   "metadata": {},
   "outputs": [
    {
     "data": {
      "text/plain": [
       "0"
      ]
     },
     "execution_count": 14,
     "metadata": {},
     "output_type": "execute_result"
    }
   ],
   "source": [
    "False*False"
   ]
  },
  {
   "cell_type": "code",
   "execution_count": 15,
   "id": "11900410-9d6f-42ef-a944-02f32b9691de",
   "metadata": {},
   "outputs": [
    {
     "data": {
      "text/plain": [
       "1"
      ]
     },
     "execution_count": 15,
     "metadata": {},
     "output_type": "execute_result"
    }
   ],
   "source": [
    "True*True"
   ]
  },
  {
   "cell_type": "code",
   "execution_count": 16,
   "id": "061e8959-6e25-4d22-ace0-2917fa4b80e6",
   "metadata": {},
   "outputs": [
    {
     "data": {
      "text/plain": [
       "0"
      ]
     },
     "execution_count": 16,
     "metadata": {},
     "output_type": "execute_result"
    }
   ],
   "source": [
    "True* False"
   ]
  },
  {
   "cell_type": "code",
   "execution_count": 17,
   "id": "1f9ba20f-c7d5-4fce-b9db-9468c60d09cd",
   "metadata": {},
   "outputs": [
    {
     "data": {
      "text/plain": [
       "0"
      ]
     },
     "execution_count": 17,
     "metadata": {},
     "output_type": "execute_result"
    }
   ],
   "source": [
    "False*False"
   ]
  },
  {
   "cell_type": "code",
   "execution_count": 18,
   "id": "d631cab4-f423-4e15-9719-5a954a00244a",
   "metadata": {},
   "outputs": [
    {
     "data": {
      "text/plain": [
       "0"
      ]
     },
     "execution_count": 18,
     "metadata": {},
     "output_type": "execute_result"
    }
   ],
   "source": [
    "False*True"
   ]
  },
  {
   "cell_type": "code",
   "execution_count": 19,
   "id": "f1249888-1dc5-49e2-a25d-311c3e937824",
   "metadata": {},
   "outputs": [
    {
     "data": {
      "text/plain": [
       "False"
      ]
     },
     "execution_count": 19,
     "metadata": {},
     "output_type": "execute_result"
    }
   ],
   "source": [
    "(not(True))*False==True"
   ]
  },
  {
   "cell_type": "code",
   "execution_count": 20,
   "id": "4d531614-22d3-4ce8-9a52-9d3ce27fff65",
   "metadata": {},
   "outputs": [
    {
     "data": {
      "text/plain": [
       "True"
      ]
     },
     "execution_count": 20,
     "metadata": {},
     "output_type": "execute_result"
    }
   ],
   "source": [
    "not False*False"
   ]
  },
  {
   "cell_type": "code",
   "execution_count": 21,
   "id": "69e6e4d7-6b38-4c27-8108-760d49497cb5",
   "metadata": {},
   "outputs": [
    {
     "data": {
      "text/plain": [
       "True"
      ]
     },
     "execution_count": 21,
     "metadata": {},
     "output_type": "execute_result"
    }
   ],
   "source": [
    "not(False*True)"
   ]
  },
  {
   "cell_type": "markdown",
   "id": "3d780622-064d-42a5-9be5-8da1cfed0fdf",
   "metadata": {},
   "source": [
    "### Equality Operator"
   ]
  },
  {
   "cell_type": "code",
   "execution_count": 22,
   "id": "81f5e5d2-202b-4fa2-8fe5-62c2047c06b3",
   "metadata": {},
   "outputs": [
    {
     "name": "stdout",
     "output_type": "stream",
     "text": [
      "140052440613104\n"
     ]
    }
   ],
   "source": [
    "a=1\n",
    "\n",
    "print(id(a))"
   ]
  },
  {
   "cell_type": "code",
   "execution_count": 23,
   "id": "6b7cf9db-7001-4125-b663-7e67ce7d7975",
   "metadata": {},
   "outputs": [
    {
     "name": "stdout",
     "output_type": "stream",
     "text": [
      "140052392029744\n",
      "140052436097968\n",
      "140052243115264\n"
     ]
    }
   ],
   "source": [
    "lst1=[\"ef\",\"sdf\",\"dfs\"]\n",
    "\n",
    "print(id(lst1[0]))\n",
    "print(id(lst1[2]))\n",
    "print(id(lst1))"
   ]
  },
  {
   "cell_type": "code",
   "execution_count": 24,
   "id": "cc5007f0-287a-4b4d-91f8-5a81b2addb9a",
   "metadata": {},
   "outputs": [
    {
     "data": {
      "text/plain": [
       "False"
      ]
     },
     "execution_count": 24,
     "metadata": {},
     "output_type": "execute_result"
    }
   ],
   "source": [
    "lsta=[1,2]\n",
    "\n",
    "lstb=[2,3]\n",
    "\n",
    "lsta == lstb"
   ]
  },
  {
   "cell_type": "code",
   "execution_count": 25,
   "id": "6b640f6b-9c2d-4834-9e60-58d6c3bf50db",
   "metadata": {},
   "outputs": [
    {
     "data": {
      "text/plain": [
       "True"
      ]
     },
     "execution_count": 25,
     "metadata": {},
     "output_type": "execute_result"
    }
   ],
   "source": [
    "lsta is not lstb"
   ]
  },
  {
   "cell_type": "code",
   "execution_count": 26,
   "id": "d0efd5d3-632f-4759-8ba5-a849fa10595e",
   "metadata": {},
   "outputs": [
    {
     "name": "stdout",
     "output_type": "stream",
     "text": [
      "Both list are differnt\n"
     ]
    }
   ],
   "source": [
    "if lsta is not lstb :\n",
    "    print(\"Both list are differnt\")"
   ]
  },
  {
   "cell_type": "code",
   "execution_count": 27,
   "id": "3353b38b-7f75-47cc-84ed-36b139f02d94",
   "metadata": {},
   "outputs": [
    {
     "name": "stdout",
     "output_type": "stream",
     "text": [
      "140052243393328\n",
      "140052243392624\n"
     ]
    }
   ],
   "source": [
    "name1=\"anil\"\n",
    "name2=\"anila\"\n",
    "\n",
    "\n",
    "print(id(name1))\n",
    "print(id(name2))"
   ]
  },
  {
   "cell_type": "code",
   "execution_count": 28,
   "id": "d55012f9-56a4-4706-867c-f9b1fbd69ec0",
   "metadata": {},
   "outputs": [
    {
     "data": {
      "text/plain": [
       "'sdf'"
      ]
     },
     "execution_count": 28,
     "metadata": {},
     "output_type": "execute_result"
    }
   ],
   "source": [
    "lst1[1]"
   ]
  },
  {
   "cell_type": "code",
   "execution_count": 29,
   "id": "9cd6bd3c-babe-4201-ac73-b41e42b6aad6",
   "metadata": {},
   "outputs": [
    {
     "data": {
      "text/plain": [
       "'dfs'"
      ]
     },
     "execution_count": 29,
     "metadata": {},
     "output_type": "execute_result"
    }
   ],
   "source": [
    "lst1\n",
    "lst1[2]"
   ]
  },
  {
   "cell_type": "code",
   "execution_count": 30,
   "id": "807f75a7-366b-4f14-bc33-304856c1834e",
   "metadata": {},
   "outputs": [
    {
     "name": "stdout",
     "output_type": "stream",
     "text": [
      "140052243393328\n",
      "140052243393328\n"
     ]
    }
   ],
   "source": [
    "name1=\"anil\"\n",
    "name2=\"anil\"\n",
    "\n",
    "print(id(name1))\n",
    "print(id(name2))\n",
    "\n",
    "## same memory id for same string "
   ]
  },
  {
   "cell_type": "markdown",
   "id": "b1bd163b-ca1b-46c4-b042-60e01accb0fe",
   "metadata": {},
   "source": [
    "### Comparison operations"
   ]
  },
  {
   "cell_type": "code",
   "execution_count": 31,
   "id": "ae6f2575-f2cc-4651-8622-f5c3c4a703ad",
   "metadata": {},
   "outputs": [
    {
     "name": "stdout",
     "output_type": "stream",
     "text": [
      "bike is faster than car if: False \n"
     ]
    }
   ],
   "source": [
    "bike_speed  =150\n",
    "car_speed= 200\n",
    "\n",
    "print(f\"bike is faster than car if: {bike_speed > car_speed } \")"
   ]
  },
  {
   "cell_type": "markdown",
   "id": "3da613d6-8e4b-4fa3-9d7f-113850d2c235",
   "metadata": {},
   "source": [
    "### Arithmetic operations"
   ]
  },
  {
   "cell_type": "code",
   "execution_count": 32,
   "id": "82e2c1a1-3d07-4512-9649-b6088ebb6379",
   "metadata": {},
   "outputs": [],
   "source": [
    "a=25\n",
    "b=101"
   ]
  },
  {
   "cell_type": "code",
   "execution_count": 56,
   "id": "4c818535-559b-4f8b-a2d2-67347e11d9d2",
   "metadata": {},
   "outputs": [
    {
     "data": {
      "text/plain": [
       "2525"
      ]
     },
     "execution_count": 56,
     "metadata": {},
     "output_type": "execute_result"
    }
   ],
   "source": [
    "b*a"
   ]
  },
  {
   "cell_type": "code",
   "execution_count": 57,
   "id": "b076d624-754e-4ca9-aa34-b3fb97604c55",
   "metadata": {},
   "outputs": [
    {
     "data": {
      "text/plain": [
       "4.04"
      ]
     },
     "execution_count": 57,
     "metadata": {},
     "output_type": "execute_result"
    }
   ],
   "source": [
    "b/a"
   ]
  },
  {
   "cell_type": "code",
   "execution_count": 58,
   "id": "e829fe3d-6fe7-4b4f-b37d-dee41a4403ec",
   "metadata": {},
   "outputs": [
    {
     "data": {
      "text/plain": [
       "0.24752475247524752"
      ]
     },
     "execution_count": 58,
     "metadata": {},
     "output_type": "execute_result"
    }
   ],
   "source": [
    "a/b"
   ]
  },
  {
   "cell_type": "code",
   "execution_count": 59,
   "id": "c3c5cb14-01d1-4519-a172-8eb6a1d8574c",
   "metadata": {},
   "outputs": [
    {
     "data": {
      "text/plain": [
       "0"
      ]
     },
     "execution_count": 59,
     "metadata": {},
     "output_type": "execute_result"
    }
   ],
   "source": [
    "a//b\n",
    "\n",
    "## interger division"
   ]
  },
  {
   "cell_type": "code",
   "execution_count": 60,
   "id": "178731de-6d86-4191-8424-7abda308f22b",
   "metadata": {},
   "outputs": [
    {
     "data": {
      "text/plain": [
       "1"
      ]
     },
     "execution_count": 60,
     "metadata": {},
     "output_type": "execute_result"
    }
   ],
   "source": [
    "b%a\n",
    "\n",
    "## modulus operation\n",
    "## displays the remainder\n"
   ]
  },
  {
   "cell_type": "code",
   "execution_count": 61,
   "id": "64217650-454c-4920-870d-34736ed9220b",
   "metadata": {},
   "outputs": [
    {
     "data": {
      "text/plain": [
       "25"
      ]
     },
     "execution_count": 61,
     "metadata": {},
     "output_type": "execute_result"
    }
   ],
   "source": [
    "a%b"
   ]
  },
  {
   "cell_type": "markdown",
   "id": "175667b9-1a3f-404d-aa21-c36c9366ed09",
   "metadata": {},
   "source": [
    "### Bitwise operator"
   ]
  },
  {
   "cell_type": "markdown",
   "id": "95cd938e-5c73-49bc-be95-5763576941bd",
   "metadata": {},
   "source": [
    "### Bitwise complement"
   ]
  },
  {
   "cell_type": "code",
   "execution_count": 62,
   "id": "6a141c5d-7423-48df-8d74-3140c34d7b0c",
   "metadata": {},
   "outputs": [],
   "source": [
    "##  00  is 0\n",
    "\n",
    "#   How to find out the binary of a number\n"
   ]
  },
  {
   "cell_type": "code",
   "execution_count": 63,
   "id": "6f72fd87-c165-43f2-a835-35e9d678aecc",
   "metadata": {},
   "outputs": [
    {
     "data": {
      "text/plain": [
       "'0b1010'"
      ]
     },
     "execution_count": 63,
     "metadata": {},
     "output_type": "execute_result"
    }
   ],
   "source": [
    "var = 10\n",
    "\n",
    "bin(var)"
   ]
  },
  {
   "cell_type": "code",
   "execution_count": 64,
   "id": "57e83899-2c99-48cb-a461-5f89074487a6",
   "metadata": {},
   "outputs": [
    {
     "data": {
      "text/plain": [
       "'0b10'"
      ]
     },
     "execution_count": 64,
     "metadata": {},
     "output_type": "execute_result"
    }
   ],
   "source": [
    "bin(2)"
   ]
  },
  {
   "cell_type": "code",
   "execution_count": 65,
   "id": "564b6b24-232f-4acc-9d73-ec075ddc9e86",
   "metadata": {},
   "outputs": [
    {
     "data": {
      "text/plain": [
       "'0b110'"
      ]
     },
     "execution_count": 65,
     "metadata": {},
     "output_type": "execute_result"
    }
   ],
   "source": [
    "bin(6)\n",
    "\n",
    "# here 0b means bytes"
   ]
  },
  {
   "cell_type": "code",
   "execution_count": 66,
   "id": "323465d8-242b-436e-8ac2-e40a8ec55a1b",
   "metadata": {},
   "outputs": [
    {
     "data": {
      "text/plain": [
       "-11"
      ]
     },
     "execution_count": 66,
     "metadata": {},
     "output_type": "execute_result"
    }
   ],
   "source": [
    "~var"
   ]
  },
  {
   "cell_type": "code",
   "execution_count": 67,
   "id": "2663038e-c20f-4b16-93de-4a9ed9d9d0e2",
   "metadata": {},
   "outputs": [
    {
     "data": {
      "text/plain": [
       "False"
      ]
     },
     "execution_count": 67,
     "metadata": {},
     "output_type": "execute_result"
    }
   ],
   "source": [
    "True and False"
   ]
  },
  {
   "cell_type": "code",
   "execution_count": 68,
   "id": "1c721fb0-1309-42c4-8cf6-a1fc887c3973",
   "metadata": {},
   "outputs": [
    {
     "data": {
      "text/plain": [
       "False"
      ]
     },
     "execution_count": 68,
     "metadata": {},
     "output_type": "execute_result"
    }
   ],
   "source": [
    "True & False"
   ]
  },
  {
   "cell_type": "code",
   "execution_count": 69,
   "id": "a69ee293-73bd-4b77-8c45-d95d6c40347f",
   "metadata": {},
   "outputs": [
    {
     "data": {
      "text/plain": [
       "True"
      ]
     },
     "execution_count": 69,
     "metadata": {},
     "output_type": "execute_result"
    }
   ],
   "source": [
    "True | False"
   ]
  },
  {
   "cell_type": "code",
   "execution_count": 70,
   "id": "d4de38d7-f7f9-439d-a089-6947c47a9422",
   "metadata": {},
   "outputs": [
    {
     "data": {
      "text/plain": [
       "True"
      ]
     },
     "execution_count": 70,
     "metadata": {},
     "output_type": "execute_result"
    }
   ],
   "source": [
    "True or False"
   ]
  },
  {
   "cell_type": "code",
   "execution_count": 71,
   "id": "44dda6e1-53af-4dfc-a274-e451c0e33fb5",
   "metadata": {},
   "outputs": [
    {
     "data": {
      "text/plain": [
       "5"
      ]
     },
     "execution_count": 71,
     "metadata": {},
     "output_type": "execute_result"
    }
   ],
   "source": [
    "10 >> 1\n",
    "\n",
    "\n",
    "## this is shifting in binary form of 10"
   ]
  },
  {
   "cell_type": "code",
   "execution_count": 72,
   "id": "d28792de-f1d1-4e7b-bb16-372f16d4d592",
   "metadata": {},
   "outputs": [
    {
     "data": {
      "text/plain": [
       "20"
      ]
     },
     "execution_count": 72,
     "metadata": {},
     "output_type": "execute_result"
    }
   ],
   "source": [
    "10 << 1\n",
    "\n",
    "### this is shifting in binary form of 10"
   ]
  },
  {
   "cell_type": "markdown",
   "id": "38ce7c5d-8318-49a0-b52b-61de7311a842",
   "metadata": {},
   "source": [
    "### Strings"
   ]
  },
  {
   "cell_type": "markdown",
   "id": "58900806-1f2c-4703-b22e-81d1e25b1601",
   "metadata": {},
   "source": [
    "# Strings"
   ]
  },
  {
   "cell_type": "code",
   "execution_count": 73,
   "id": "0f4d0fdb-fbd9-4eee-8b01-6bc97c2691bf",
   "metadata": {},
   "outputs": [
    {
     "data": {
      "text/plain": [
       "' welcome '"
      ]
     },
     "execution_count": 73,
     "metadata": {},
     "output_type": "execute_result"
    }
   ],
   "source": [
    "\" welcome \""
   ]
  },
  {
   "cell_type": "code",
   "execution_count": 74,
   "id": "00fda7fb-8fe3-4cb7-ada0-cb32ed2ab9f0",
   "metadata": {},
   "outputs": [
    {
     "data": {
      "text/plain": [
       "str"
      ]
     },
     "execution_count": 74,
     "metadata": {},
     "output_type": "execute_result"
    }
   ],
   "source": [
    "var = \"Weocome\"\n",
    "type(var)"
   ]
  },
  {
   "cell_type": "code",
   "execution_count": 78,
   "id": "40a22c61-a95f-4a99-af88-37723c7b6325",
   "metadata": {},
   "outputs": [
    {
     "data": {
      "text/plain": [
       "'W'"
      ]
     },
     "execution_count": 78,
     "metadata": {},
     "output_type": "execute_result"
    }
   ],
   "source": [
    "var[0]"
   ]
  },
  {
   "cell_type": "code",
   "execution_count": 79,
   "id": "ef805a76-d34a-4297-95e4-e1b96306a3fb",
   "metadata": {},
   "outputs": [
    {
     "ename": "TypeError",
     "evalue": "'str' object does not support item assignment",
     "output_type": "error",
     "traceback": [
      "\u001b[0;31m---------------------------------------------------------------------------\u001b[0m",
      "\u001b[0;31mTypeError\u001b[0m                                 Traceback (most recent call last)",
      "Cell \u001b[0;32mIn[79], line 1\u001b[0m\n\u001b[0;32m----> 1\u001b[0m \u001b[43mvar\u001b[49m\u001b[43m[\u001b[49m\u001b[38;5;241;43m0\u001b[39;49m\u001b[43m]\u001b[49m\u001b[38;5;241m=\u001b[39m\u001b[38;5;241m12\u001b[39m\n\u001b[1;32m      3\u001b[0m \u001b[38;5;66;03m## immutable \u001b[39;00m\n\u001b[1;32m      4\u001b[0m \n\u001b[1;32m      5\u001b[0m \u001b[38;5;66;03m## we cannot replace \u001b[39;00m\n",
      "\u001b[0;31mTypeError\u001b[0m: 'str' object does not support item assignment"
     ]
    }
   ],
   "source": [
    "var[0]=12\n",
    "\n",
    "## immutable \n",
    "\n",
    "## we cannot replace "
   ]
  },
  {
   "cell_type": "code",
   "execution_count": 80,
   "id": "e6602a9a-0b69-40df-bf76-1dc94c25ad09",
   "metadata": {},
   "outputs": [],
   "source": [
    "str1=\"Hellow world\"\n"
   ]
  },
  {
   "cell_type": "code",
   "execution_count": 81,
   "id": "716063f9-68f9-497c-abf2-4f311e3d6977",
   "metadata": {},
   "outputs": [
    {
     "data": {
      "text/plain": [
       "'Kadam'"
      ]
     },
     "execution_count": 81,
     "metadata": {},
     "output_type": "execute_result"
    }
   ],
   "source": [
    "string=\"Anil Kadam\"\n",
    "\n",
    "string[5:]\n",
    "\n",
    "## from 5 to entirely to the last "
   ]
  },
  {
   "cell_type": "code",
   "execution_count": 82,
   "id": "cf3f14e7-0f61-4375-97c9-548f964932b8",
   "metadata": {},
   "outputs": [
    {
     "data": {
      "text/plain": [
       "'m'"
      ]
     },
     "execution_count": 82,
     "metadata": {},
     "output_type": "execute_result"
    }
   ],
   "source": [
    "string[-1]"
   ]
  },
  {
   "cell_type": "code",
   "execution_count": 83,
   "id": "050c4f64-2759-4c0c-bdd1-2ef27b85e938",
   "metadata": {},
   "outputs": [
    {
     "data": {
      "text/plain": [
       "'m'"
      ]
     },
     "execution_count": 83,
     "metadata": {},
     "output_type": "execute_result"
    }
   ],
   "source": [
    "string[-1]"
   ]
  },
  {
   "cell_type": "code",
   "execution_count": 84,
   "id": "1bdfbdb0-d0c1-4a3a-be67-16b976ae7a3d",
   "metadata": {},
   "outputs": [
    {
     "data": {
      "text/plain": [
       "'Anil Kada'"
      ]
     },
     "execution_count": 84,
     "metadata": {},
     "output_type": "execute_result"
    }
   ],
   "source": [
    "string[:-1]"
   ]
  },
  {
   "cell_type": "code",
   "execution_count": 86,
   "id": "555d7838-05bd-477c-b9c1-241e19637211",
   "metadata": {},
   "outputs": [
    {
     "data": {
      "text/plain": [
       "'Anil Ka'"
      ]
     },
     "execution_count": 86,
     "metadata": {},
     "output_type": "execute_result"
    }
   ],
   "source": [
    "string[:-3]\n",
    "\n",
    "## Read everything except yhe last 3 characters"
   ]
  },
  {
   "cell_type": "code",
   "execution_count": 88,
   "id": "0dbd0fa2-5251-4589-8e6e-2ce33dcff0ab",
   "metadata": {},
   "outputs": [
    {
     "data": {
      "text/plain": [
       "'nil Kada'"
      ]
     },
     "execution_count": 88,
     "metadata": {},
     "output_type": "execute_result"
    }
   ],
   "source": [
    "string[1:-1]\n",
    "\n",
    "## ignore 1st and last character"
   ]
  },
  {
   "cell_type": "code",
   "execution_count": 90,
   "id": "f6b2095e-028a-437d-85d9-4baf3dff385e",
   "metadata": {},
   "outputs": [
    {
     "data": {
      "text/plain": [
       "'il Kad'"
      ]
     },
     "execution_count": 90,
     "metadata": {},
     "output_type": "execute_result"
    }
   ],
   "source": [
    "string[2:-2]\n",
    "## ignore last and first two characters"
   ]
  },
  {
   "cell_type": "code",
   "execution_count": 93,
   "id": "5b3dd428-db23-4022-ad7d-64f70718ad18",
   "metadata": {},
   "outputs": [
    {
     "data": {
      "text/plain": [
       "'Anil Kadam'"
      ]
     },
     "execution_count": 93,
     "metadata": {},
     "output_type": "execute_result"
    }
   ],
   "source": [
    "string[:]\n",
    "\n",
    "#Everything"
   ]
  },
  {
   "cell_type": "code",
   "execution_count": 96,
   "id": "f82c18c4-e606-4772-836c-39992cf68437",
   "metadata": {},
   "outputs": [
    {
     "data": {
      "text/plain": [
       "'madaK linA'"
      ]
     },
     "execution_count": 96,
     "metadata": {},
     "output_type": "execute_result"
    }
   ],
   "source": [
    "string[::-1]\n",
    "\n",
    "## reverse"
   ]
  },
  {
   "cell_type": "code",
   "execution_count": 99,
   "id": "10475793-7600-4544-9f3a-5c9d66a16e07",
   "metadata": {},
   "outputs": [
    {
     "data": {
      "text/plain": [
       "'mdKln'"
      ]
     },
     "execution_count": 99,
     "metadata": {},
     "output_type": "execute_result"
    }
   ],
   "source": [
    "string[::-2]"
   ]
  },
  {
   "cell_type": "code",
   "execution_count": 101,
   "id": "5bb99127-87c0-44b7-b541-a62fb6e5815e",
   "metadata": {},
   "outputs": [
    {
     "data": {
      "text/plain": [
       "'Anil Kadam'"
      ]
     },
     "execution_count": 101,
     "metadata": {},
     "output_type": "execute_result"
    }
   ],
   "source": [
    "string[::1]"
   ]
  },
  {
   "cell_type": "code",
   "execution_count": 103,
   "id": "73caf66d-d8d9-45da-80a1-c74a1eb35005",
   "metadata": {},
   "outputs": [
    {
     "data": {
      "text/plain": [
       "'Ai aa'"
      ]
     },
     "execution_count": 103,
     "metadata": {},
     "output_type": "execute_result"
    }
   ],
   "source": [
    "string[::2]\n",
    "\n",
    "## from start it will take every second lettor"
   ]
  },
  {
   "cell_type": "code",
   "execution_count": 4,
   "id": "59280c9d-998e-4868-821f-cefcefcb001a",
   "metadata": {},
   "outputs": [],
   "source": [
    "course_name=\"IMSC_Chemistry_5_Years\"\n",
    "\n",
    "### write a code to show chemistry in forward and backward way"
   ]
  },
  {
   "cell_type": "code",
   "execution_count": 5,
   "id": "2d9db1d1-ead6-42a5-9c53-70b396253f54",
   "metadata": {},
   "outputs": [
    {
     "data": {
      "text/plain": [
       "'Chemistry'"
      ]
     },
     "execution_count": 5,
     "metadata": {},
     "output_type": "execute_result"
    }
   ],
   "source": [
    "course_name[5:14]"
   ]
  },
  {
   "cell_type": "code",
   "execution_count": 6,
   "id": "41d7ace5-710d-4301-925a-f9afc9dfb970",
   "metadata": {},
   "outputs": [
    {
     "data": {
      "text/plain": [
       "'yrtsimehC'"
      ]
     },
     "execution_count": 6,
     "metadata": {},
     "output_type": "execute_result"
    }
   ],
   "source": [
    "course_name[5:14][::-1]"
   ]
  },
  {
   "cell_type": "code",
   "execution_count": 7,
   "id": "d572b668-1a9b-4f8e-8234-7f154be89732",
   "metadata": {},
   "outputs": [
    {
     "data": {
      "text/plain": [
       "'S'"
      ]
     },
     "execution_count": 7,
     "metadata": {},
     "output_type": "execute_result"
    }
   ],
   "source": [
    "course_name[2:1:-2]"
   ]
  },
  {
   "cell_type": "code",
   "execution_count": 8,
   "id": "58b8a98e-2dc3-417a-939d-c5b7caa73385",
   "metadata": {},
   "outputs": [
    {
     "data": {
      "text/plain": [
       "19"
      ]
     },
     "execution_count": 8,
     "metadata": {},
     "output_type": "execute_result"
    }
   ],
   "source": [
    "course_name.find(\"a\")"
   ]
  },
  {
   "cell_type": "code",
   "execution_count": 13,
   "id": "2275888e-1681-43d6-ae89-829aa6fce236",
   "metadata": {},
   "outputs": [
    {
     "data": {
      "text/plain": [
       "0"
      ]
     },
     "execution_count": 13,
     "metadata": {},
     "output_type": "execute_result"
    }
   ],
   "source": [
    "course_name.find(\"I\")"
   ]
  },
  {
   "cell_type": "code",
   "execution_count": 16,
   "id": "f6a6e3c8-3f95-47d8-af88-a17cc6611224",
   "metadata": {},
   "outputs": [
    {
     "data": {
      "text/plain": [
       "7"
      ]
     },
     "execution_count": 16,
     "metadata": {},
     "output_type": "execute_result"
    }
   ],
   "source": [
    "course_name.find(\"e\")\n",
    "\n",
    "## index of e\n"
   ]
  },
  {
   "cell_type": "code",
   "execution_count": 17,
   "id": "20b7f50c-2fc0-4731-9b6a-51e21ee07f0a",
   "metadata": {},
   "outputs": [
    {
     "data": {
      "text/plain": [
       "2"
      ]
     },
     "execution_count": 17,
     "metadata": {},
     "output_type": "execute_result"
    }
   ],
   "source": [
    "course_name.count(\"e\")\n",
    "\n",
    "## count of e\n"
   ]
  },
  {
   "cell_type": "code",
   "execution_count": 19,
   "id": "d255989a-9c04-48b3-9c88-cf227b5dc387",
   "metadata": {},
   "outputs": [
    {
     "data": {
      "text/plain": [
       "7"
      ]
     },
     "execution_count": 19,
     "metadata": {},
     "output_type": "execute_result"
    }
   ],
   "source": [
    "course_name.find(\"e\",2,15)\n",
    "\n",
    "## index"
   ]
  },
  {
   "cell_type": "code",
   "execution_count": 23,
   "id": "09fdb336-2d1b-4e4c-8265-f8c756170aaa",
   "metadata": {},
   "outputs": [
    {
     "data": {
      "text/plain": [
       "['IM', 'C_Chemistry_5_Years']"
      ]
     },
     "execution_count": 23,
     "metadata": {},
     "output_type": "execute_result"
    }
   ],
   "source": [
    "course_name.split('S')"
   ]
  },
  {
   "cell_type": "code",
   "execution_count": null,
   "id": "0882841c-c50d-4ff2-9556-47f2cf4414f0",
   "metadata": {},
   "outputs": [
    {
     "data": {
      "text/plain": [
       "'Imsc_Chemistry_5_Years'"
      ]
     },
     "execution_count": 24,
     "metadata": {},
     "output_type": "execute_result"
    }
   ],
   "source": [
    "course_name.title()"
   ]
  },
  {
   "cell_type": "code",
   "execution_count": null,
   "id": "6065cda1-0763-4773-80f2-1343df8e9a80",
   "metadata": {},
   "outputs": [],
   "source": []
  },
  {
   "cell_type": "code",
   "execution_count": null,
   "id": "e5a4862e-10d7-430d-8c84-0ff54cc56a3f",
   "metadata": {},
   "outputs": [],
   "source": []
  },
  {
   "cell_type": "code",
   "execution_count": null,
   "id": "6d60def5-b7b4-4f99-ae37-9ad3ccd62908",
   "metadata": {},
   "outputs": [],
   "source": []
  },
  {
   "cell_type": "code",
   "execution_count": null,
   "id": "6480699b-3f63-408b-a571-fb613fe3893b",
   "metadata": {},
   "outputs": [],
   "source": []
  },
  {
   "cell_type": "code",
   "execution_count": null,
   "id": "e08359ad-9aca-467d-9e87-e279adef8a41",
   "metadata": {},
   "outputs": [],
   "source": []
  }
 ],
 "metadata": {
  "kernelspec": {
   "display_name": "Python 3 (ipykernel)",
   "language": "python",
   "name": "python3"
  },
  "language_info": {
   "codemirror_mode": {
    "name": "ipython",
    "version": 3
   },
   "file_extension": ".py",
   "mimetype": "text/x-python",
   "name": "python",
   "nbconvert_exporter": "python",
   "pygments_lexer": "ipython3",
   "version": "3.10.8"
  }
 },
 "nbformat": 4,
 "nbformat_minor": 5
}

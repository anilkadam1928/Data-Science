{
 "cells": [
  {
   "cell_type": "code",
   "execution_count": 1,
   "id": "f9a7034a-50be-4c6b-b9d7-851dd2913448",
   "metadata": {},
   "outputs": [
    {
     "name": "stdout",
     "output_type": "stream",
     "text": [
      "Welcome to the Lulu mall\n"
     ]
    },
    {
     "name": "stdin",
     "output_type": "stream",
     "text": [
      "Enter the price of the product 800\n"
     ]
    },
    {
     "name": "stdout",
     "output_type": "stream",
     "text": [
      "30 off     enjon and the new price is 560.0\n"
     ]
    }
   ],
   "source": [
    "print(\"Welcome to the Lulu mall\")\n",
    "price=int(input(\"Enter the price of the product\"))\n",
    "if price > 1000 : \n",
    "    print(f\"Congrats you have got 20% discount and the new price is {price*0.8} \")\n",
    "\n",
    "if price <= 1000 : print(f\"30 off     enjon and the new price is {price*0.7}\")"
   ]
  },
  {
   "cell_type": "code",
   "execution_count": 4,
   "id": "531a484f-62d5-410d-ad96-5fef205dbb78",
   "metadata": {},
   "outputs": [
    {
     "name": "stdout",
     "output_type": "stream",
     "text": [
      "Welcome to the Lulu mall\n"
     ]
    },
    {
     "name": "stdin",
     "output_type": "stream",
     "text": [
      "Enter the price of the product 2300\n"
     ]
    },
    {
     "name": "stdout",
     "output_type": "stream",
     "text": [
      "30 off     enjon and the new price is 1610.0\n"
     ]
    }
   ],
   "source": [
    "print(\"Welcome to the Lulu mall\")\n",
    "price=int(input(\"Enter the price of the product\"))\n",
    "if price >3000 : \n",
    "    print(f\"Congrats you have got 20% discount and the new price is {price*0.8} \")\n",
    "\n",
    "if price <= 3000 and price >=2000 : print(f\"30 off     enjon and the new price is {price*0.7}\")"
   ]
  },
  {
   "cell_type": "code",
   "execution_count": 7,
   "id": "071fd4ef-10d0-4d39-bdfe-8c493396f7ff",
   "metadata": {},
   "outputs": [
    {
     "name": "stdout",
     "output_type": "stream",
     "text": [
      "Welcome to the Lulu mall\n"
     ]
    },
    {
     "name": "stdin",
     "output_type": "stream",
     "text": [
      "Enter the price of the product 1000\n"
     ]
    },
    {
     "name": "stdout",
     "output_type": "stream",
     "text": [
      "price is 600.0\n"
     ]
    }
   ],
   "source": [
    "print(\"Welcome to the Lulu mall\")\n",
    "price=int(input(\"Enter the price of the product\"))\n",
    "if price >3000 : \n",
    "    print(f\"Congrats you have got 20% discount and the new price is {price*0.8} \")\n",
    "\n",
    "if price <= 3000 and price >=2000 : print(f\"30 off     enjon and the new price is {price*0.7}\")\n",
    "\n",
    "\n",
    "if price < 2000 : print(f\"price is {price*0.6}\")"
   ]
  },
  {
   "cell_type": "code",
   "execution_count": 11,
   "id": "a980523b-7be9-4ad1-9d8e-ec78263268e7",
   "metadata": {},
   "outputs": [
    {
     "name": "stdin",
     "output_type": "stream",
     "text": [
      "value  5000\n"
     ]
    },
    {
     "name": "stdout",
     "output_type": "stream",
     "text": [
      "value is greater than 1000\n"
     ]
    }
   ],
   "source": [
    "val=int(input(\"value \"))\n",
    "\n",
    "if val>1000 :print(\"value is greater than 1000\")"
   ]
  },
  {
   "cell_type": "code",
   "execution_count": null,
   "id": "4e68b568-faf9-4b3b-b151-70d4c89634cd",
   "metadata": {},
   "outputs": [],
   "source": []
  }
 ],
 "metadata": {
  "kernelspec": {
   "display_name": "Python 3 (ipykernel)",
   "language": "python",
   "name": "python3"
  },
  "language_info": {
   "codemirror_mode": {
    "name": "ipython",
    "version": 3
   },
   "file_extension": ".py",
   "mimetype": "text/x-python",
   "name": "python",
   "nbconvert_exporter": "python",
   "pygments_lexer": "ipython3",
   "version": "3.10.8"
  }
 },
 "nbformat": 4,
 "nbformat_minor": 5
}
